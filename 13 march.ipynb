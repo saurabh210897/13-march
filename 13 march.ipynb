{
 "cells": [
  {
   "cell_type": "code",
   "execution_count": null,
   "id": "9ddd8697-81b8-4b95-8c57-754595bcfd14",
   "metadata": {},
   "outputs": [],
   "source": [
    "# Q1. Explain the assumptions required to use ANOVA and provide examples of violations that could impact \n",
    "# the validity of the results."
   ]
  },
  {
   "cell_type": "code",
   "execution_count": null,
   "id": "8c4543b0-4ca7-4398-9824-08595f750659",
   "metadata": {},
   "outputs": [],
   "source": [
    "# ANOVA, or analysis of variance, is a statistical test used to determine whether there are significant differences between the means of three \n",
    "# or more groups. In order to use ANOVA, several assumptions must be met:\n",
    "\n",
    "# Independence: The observations in each group must be independent of each other. \n",
    "# This means that the values in one group should not be influenced by the values in another group.\n",
    "\n",
    "# Normality: The data within each group should be normally distributed. This means that the data should follow a bell-shaped curve when plotted.\n",
    "\n",
    "# Homogeneity of variances: The variances of the data within each group should be roughly equal. \n",
    "# This means that the spread of the data should be similar across all groups.\n",
    "\n",
    "# Violations of these assumptions can impact the validity of ANOVA results. For example:\n",
    "\n",
    "# Violation of independence: If the observations in one group are dependent on the observations in another group, \n",
    "# this can lead to biased results. For example, if a study measures the same individuals over time \n",
    "# and includes those measurements in different groups, the observations within each group are no longer independent.\n",
    "\n",
    "# Violation of normality: If the data within each group is not normally distributed, this can lead to inaccurate results. \n",
    "# For example, if the data is highly skewed or has outliers, the assumption of normality may be violated.\n",
    "\n",
    "# Violation of homogeneity of variances: If the variances of the data within each group are not equal, this can lead to inaccurate results.\n",
    "# For example, if one group has much larger variances than the other groups, the assumption of homogeneity of variances may be violated.\n",
    "\n",
    "# In general, violations of these assumptions can lead to an increased risk of type I or type II errors,\n",
    "# which can impact the validity of ANOVA results. Therefore, it is important to assess whether \n",
    "# these assumptions are met before interpreting ANOVA results. If the assumptions are not met, alternative tests may be more appropriate."
   ]
  },
  {
   "cell_type": "code",
   "execution_count": null,
   "id": "e095f2e3-bea4-48b9-862b-204591d306b2",
   "metadata": {},
   "outputs": [],
   "source": [
    "# Q2. What are the three types of ANOVA, and in what situations would each be used?"
   ]
  },
  {
   "cell_type": "code",
   "execution_count": null,
   "id": "5e64eab3-4466-42a4-a1f3-0272145b9fd3",
   "metadata": {},
   "outputs": [],
   "source": [
    "# There are three types of ANOVA, and they are used in different situations depending on the research question and the data being analyzed.\n",
    "# The three types of ANOVA are:\n",
    "\n",
    "# One-way ANOVA: This type of ANOVA is used when there is one categorical independent variable with three or more levels, \n",
    "# and one continuous dependent variable. One-way ANOVA is used to test whether there are significant differences between the means of the groups.\n",
    "# For example, a one-way ANOVA could be used to test whether there is a difference in average test scores among students from different schools.\n",
    "\n",
    "# Two-way ANOVA: This type of ANOVA is used when there are two categorical independent variables, \n",
    "# with two or more levels each, and one continuous dependent variable. \n",
    "# Two-way ANOVA is used to test whether there are significant main effects of each independent variable, \n",
    "# as well as whether there is an interaction effect between the two independent variables on the dependent variable.\n",
    "# For example, a two-way ANOVA could be used to test whether there is a difference in average test scores among students from different schools, \n",
    "# as well as whether the effect of school varies by gender.\n",
    "\n",
    "# Repeated measures ANOVA: This type of ANOVA is used when there is one categorical independent variable with two or more levels, \n",
    "# and one continuous dependent variable, but the dependent variable is measured multiple times for each individual. \n",
    "# Repeated measures ANOVA is used to test whether there are significant differences between the means of the groups over time. \n",
    "# For example, a repeated measures ANOVA could be used to test whether there is a difference in average heart rate before and after a stress test.\n",
    "\n",
    "# Overall, ANOVA is a powerful statistical tool for comparing means across groups,\n",
    "# and choosing the appropriate type of ANOVA depends on the research question and the nature of the data being analyzed."
   ]
  },
  {
   "cell_type": "code",
   "execution_count": null,
   "id": "f1e9a979-3273-44a9-a02f-3512f6189868",
   "metadata": {},
   "outputs": [],
   "source": [
    "# Q3. What is the partitioning of variance in ANOVA, and why is it important to understand this concept?"
   ]
  },
  {
   "cell_type": "code",
   "execution_count": null,
   "id": "a78cfcde-1492-48ef-9f41-d57ff92da393",
   "metadata": {},
   "outputs": [],
   "source": [
    "# Partitioning of variance in ANOVA refers to the process of dividing the total variance in the data into different sources of variation. \n",
    "# In ANOVA, the total variance in the data is divided into two types of variance: variance between groups and variance within groups.\n",
    "\n",
    "# The variance between groups represents the amount of variation in the dependent variable that can be explained by the differences between \n",
    "# the groups being compared. This variance is what ANOVA tests for, to determine whether there are significant differences in means between \n",
    "# the groups.\n",
    "\n",
    "# The variance within groups represents the amount of variation in the dependent variable that is not explained by the differences between \n",
    "# the groups being compared. This variance can arise from random variability, measurement error, or other sources of variation that are \n",
    "# not related to the independent variable.\n",
    "\n",
    "# Understanding the concept of partitioning of variance is important for several reasons. First, it allows researchers to assess the relative \n",
    "# importance of different sources of variation in the data. For example, if the variance between groups is much larger than the variance \n",
    "# within groups, this suggests that the independent variable is an important predictor of the dependent variable.\n",
    "\n",
    "# Second, partitioning of variance allows researchers to estimate effect sizes, which are important for interpreting the practical \n",
    "# significance of the results. Effect sizes measure the magnitude of the difference between the means of the groups, \n",
    "# and are calculated by dividing the variance between groups by the total variance.\n",
    "\n",
    "# Finally, understanding the concept of partitioning of variance is important for interpreting the output of ANOVA analyses. \n",
    "# ANOVA output typically includes information about the variance between groups, the variance within groups, and the F-statistic, \n",
    "# which is calculated by dividing the variance between groups by the variance within groups. By understanding these components, \n",
    "# researchers can more accurately interpret the results of their analyses and draw appropriate conclusions."
   ]
  },
  {
   "cell_type": "code",
   "execution_count": null,
   "id": "65039512-5f7b-4b24-b68a-882479284b2d",
   "metadata": {},
   "outputs": [],
   "source": [
    "# Q4. How would you calculate the total sum of squares (SST), explained sum of squares (SSE), and residual \n",
    "# sum of squares (SSR) in a one-way ANOVA using Python?"
   ]
  },
  {
   "cell_type": "code",
   "execution_count": null,
   "id": "e29a81f7-df32-4aeb-bd88-41dca5460701",
   "metadata": {},
   "outputs": [],
   "source": [
    "# In a one-way ANOVA, the total sum of squares (SST) represents the total amount of variability in the dependent variable. \n",
    "# The explained sum of squares (SSE) represents the amount of variability in the dependent variable that is explained by \n",
    "# the independent variable (i.e., the group means). The residual sum of squares (SSR) represents the amount of variability \n",
    "# in the dependent variable that is not explained by the independent variable and is due to random variability or measurement error.\n",
    "\n",
    "# In Python, you can calculate SST, SSE, and SSR using the following steps:\n",
    "\n",
    "# Calculate the grand mean of the dependent variable (i.e., the mean of all observations).\n",
    "\n",
    "# Calculate the deviation of each observation from the grand mean.\n",
    "\n",
    "# Calculate the sum of squares for SST by squaring each deviation and summing them.\n",
    "\n",
    "# Calculate the sum of squares for SSE by summing the squared deviations of each observation from its group mean.\n",
    "\n",
    "# Calculate the sum of squares for SSR by subtracting SSE from SST.\n",
    "\n",
    "import scipy.stats as stats\n",
    "import pandas as pd\n",
    "\n",
    "# Load data into a pandas dataframe\n",
    "df = pd.read_csv('data.csv')\n",
    "\n",
    "# Calculate the grand mean\n",
    "grand_mean = df['dependent_variable'].mean()\n",
    "\n",
    "# Calculate the sum of squares for SST\n",
    "sst = ((df['dependent_variable'] - grand_mean) ** 2).sum()\n",
    "\n",
    "# Calculate the sum of squares for SSE\n",
    "group_means = df.groupby('group_variable')['dependent_variable'].mean()\n",
    "sse = ((df['dependent_variable'] - df['group_variable'].map(group_means)) ** 2).sum()\n",
    "\n",
    "# Calculate the sum of squares for SSR\n",
    "ssr = sst - sse\n"
   ]
  },
  {
   "cell_type": "code",
   "execution_count": null,
   "id": "38e79bcc-c51b-4f8d-92ec-7935b2a983cf",
   "metadata": {},
   "outputs": [],
   "source": [
    "# Q5. In a two-way ANOVA, how would you calculate the main effects and interaction effects using Python?"
   ]
  },
  {
   "cell_type": "code",
   "execution_count": null,
   "id": "248704b2-1baa-4679-a298-f689a8d477df",
   "metadata": {},
   "outputs": [],
   "source": [
    "# In a two-way ANOVA, there are two main effects (one for each independent variable) and one interaction effect \n",
    "# (representing the combined effect of the two independent variables). The main effects describe the individual effects of each\n",
    "# independent variable on the dependent variable, while the interaction effect describes how the effects of the independent variables combine \n",
    "# to affect the dependent variable.\n",
    "\n",
    "# To calculate the main effects and interaction effect in a two-way ANOVA using Python, you can use the statsmodels library.\n",
    "# Here's an example code:\n",
    "\n",
    "import statsmodels.api as sm\n",
    "import pandas as pd\n",
    "\n",
    "# Load data into a pandas dataframe\n",
    "df = pd.read_csv('data.csv')\n",
    "\n",
    "# Fit the two-way ANOVA model\n",
    "model = sm.formula.api.ols('dependent_variable ~ independent_variable_1 * independent_variable_2', data=df).fit()\n",
    "\n",
    "# Calculate the main effects\n",
    "main_effect_1 = model.params['independent_variable_1']\n",
    "main_effect_2 = model.params['independent_variable_2']\n",
    "\n",
    "# Calculate the interaction effect\n",
    "interaction_effect = model.params['independent_variable_1:independent_variable_2']\n"
   ]
  },
  {
   "cell_type": "code",
   "execution_count": null,
   "id": "6e58c48f-a525-44aa-aec1-1830d455c41b",
   "metadata": {},
   "outputs": [],
   "source": [
    "# Q6. Suppose you conducted a one-way ANOVA and obtained an F-statistic of 5.23 and a p-value of 0.02. \n",
    "# What can you conclude about the differences between the groups, and how would you interpret these \n",
    "# results?"
   ]
  },
  {
   "cell_type": "code",
   "execution_count": null,
   "id": "8505c961-e99e-4b46-b61a-d1cb4b3c2a4b",
   "metadata": {},
   "outputs": [],
   "source": [
    "# If you conducted a one-way ANOVA and obtained an F-statistic of 5.23 and a p-value of 0.02, you can conclude that there is \n",
    "# a statistically significant difference between the means of the groups. The F-statistic indicates the ratio of the variability \n",
    "# between groups to the variability within groups, and a larger F-statistic indicates a larger difference between the means of \n",
    "# the groups relative to the variability within the groups. The p-value indicates the probability of obtaining an F-statistic \n",
    "# as extreme as the one observed if the null hypothesis (i.e., the means of the groups are equal) were true.\n",
    "\n",
    "# In this case, the p-value of 0.02 indicates that the probability of obtaining an F-statistic as extreme as 5.23 \n",
    "# if the null hypothesis were true is only 2%, which is below the commonly used significance level of 5%. Therefore, \n",
    "# we can reject the null hypothesis and conclude that there is a statistically significant difference between the means of the groups.\n",
    "\n",
    "# To interpret these results, you would need to examine the means of the groups and conduct post-hoc tests \n",
    "# (e.g., Tukey's HSD test) to determine which groups differ significantly from each other. The effect size of \n",
    "#  the difference between the means can also be calculated using measures such as Cohen's d or eta-squared \n",
    "#  to determine the practical significance of the difference."
   ]
  },
  {
   "cell_type": "code",
   "execution_count": null,
   "id": "f73ed3a2-33d2-4af8-a83e-ffe5223e87bd",
   "metadata": {},
   "outputs": [],
   "source": [
    "# Q7. In a repeated measures ANOVA, how would you handle missing data, and what are the potential \n",
    "# consequences of using different methods to handle missing data?"
   ]
  },
  {
   "cell_type": "code",
   "execution_count": null,
   "id": "bee9f627-cc51-4243-9f1e-c7866135d3ae",
   "metadata": {},
   "outputs": [],
   "source": [
    "# In a repeated measures ANOVA, missing data can occur when participants do not provide responses for some of the repeated measures. \n",
    "# There are different methods to handle missing data, and the method chosen can affect the results of the analysis.\n",
    "\n",
    "# One common method for handling missing data in repeated measures ANOVA is to use listwise deletion, also known as complete case analysis. \n",
    "# With this method, any participant with missing data on any of the repeated measures is excluded from the analysis. \n",
    "# The advantage of this method is that it is simple to implement and ensures that the analysis only includes complete cases. \n",
    "# However, listwise deletion can lead to reduced sample size and loss of statistical power, as well as potential bias \n",
    "# if the missingness is related to the outcome variable.\n",
    "\n",
    "# Another method for handling missing data is to use imputation, which involves replacing missing values with estimated values based on \n",
    "# the available data. There are different types of imputation methods, including mean imputation, regression imputation, \n",
    "# and multiple imputation. The advantage of imputation is that it can preserve sample size and reduce potential bias due to missingness. \n",
    "# However, the choice of imputation method can affect the results of the analysis, and inappropriate imputation methods can lead \n",
    "# to inaccurate estimates of the standard errors and biased hypothesis tests."
   ]
  },
  {
   "cell_type": "code",
   "execution_count": null,
   "id": "f369486b-6c6a-4d81-8f5e-e61a590e8ca2",
   "metadata": {},
   "outputs": [],
   "source": [
    "# Q8. What are some common post-hoc tests used after ANOVA, and when would you use each one? Provide \n",
    "# an example of a situation where a post-hoc test might be necessary."
   ]
  },
  {
   "cell_type": "code",
   "execution_count": null,
   "id": "7f863a9a-53f7-47bb-b7ed-ea2781d90c5a",
   "metadata": {},
   "outputs": [],
   "source": [
    "# After conducting an ANOVA, post-hoc tests can be used to compare specific pairs of groups to identify which groups differ significantly \n",
    "# from each other. Some common post-hoc tests include:\n",
    "\n",
    "# Tukey's Honestly Significant Difference (HSD) test: This test compares all possible pairs of means and controls the overall type \n",
    "# I error rate at a specified level (usually 0.05). It is often used when there are equal sample sizes and equal variances across groups.\n",
    "\n",
    "# Bonferroni correction: This test adjusts the significance level for each pairwise comparison to control the overall type I error rate. \n",
    "# It is often used when there are multiple comparisons and a more stringent control of the error rate is needed.\n",
    "\n",
    "# Scheffe's test: This test is more conservative than Tukey's HSD test and is used when there are unequal sample sizes or variances across groups.\n",
    "# It controls the overall type I error rate at a specified level.\n",
    "\n",
    "# Dunnett's test: This test is used to compare each group with a control group. It controls the overall type I error rate at a specified level.\n",
    "\n",
    "# An example of a situation where a post-hoc test might be necessary is in a study comparing the effectiveness of four different treatments \n",
    "# for depression. The ANOVA might show that there is a significant difference in mean depression scores among the four treatment groups. \n",
    "# However, the ANOVA does not tell us which specific pairs of groups differ significantly. A post-hoc test such as Tukey's\n",
    "# HSD test could be used to compare all possible pairs of treatment groups and identify which pairs differ significantly from each other. \n",
    "# This information could be useful for clinicians in deciding which treatments to recommend to their patients."
   ]
  },
  {
   "cell_type": "code",
   "execution_count": null,
   "id": "8cb1bc44-48a6-49e4-bb97-71a5125a2adc",
   "metadata": {},
   "outputs": [],
   "source": [
    "# Q9. A researcher wants to compare the mean weight loss of three diets: A, B, and C. They collect data from \n",
    "# 50 participants who were randomly assigned to one of the diets. Conduct a one-way ANOVA using Python \n",
    "# to determine if there are any significant differences between the mean weight loss of the three diets. \n",
    "# Report the F-statistic and p-value, and interpret the results."
   ]
  },
  {
   "cell_type": "code",
   "execution_count": null,
   "id": "5892abfd-5534-42cd-bf35-337d8301f6d2",
   "metadata": {},
   "outputs": [],
   "source": [
    "import numpy as np\n",
    "from scipy.stats import f_oneway\n",
    "\n",
    "# create example weight loss data for each diet\n",
    "diet_a = np.random.normal(10, 2, 50)                     ## Each diet has a sample size of 50 and a mean weight loss of 10, 12, and 8,\n",
    "diet_b = np.random.normal(12, 2, 50)                     ## respectively. The standard deviation for each diet is set to 2.\n",
    "diet_c = np.random.normal(8, 2, 50)\n",
    "\n",
    "# conduct one-way ANOVA\n",
    "f_stat, p_val = f_oneway(diet_a, diet_b, diet_c)\n",
    "\n",
    "# print results\n",
    "print(\"F-statistic: \", f_stat)\n",
    "print(\"p-value: \", p_val)\n"
   ]
  },
  {
   "cell_type": "code",
   "execution_count": null,
   "id": "941a98de-214f-4c95-8dd7-b712d115c232",
   "metadata": {},
   "outputs": [],
   "source": [
    "# Since the p-value (1.446913328110397e-18 = 0.000000000000000004832278478456194)is very small (less than 0.05), we can reject \n",
    "# the null hypothesis that there is no difference in mean weight loss between the three diets. \n",
    "# We can conclude that there is strong evidence that at least one of the diets produces \n",
    "# different mean weight loss than the others. However, we cannot determine which specific diets are different from \n",
    "# each other using only the ANOVA. A post-hoc test, such as Tukey's HSD test, would be necessary to make these pairwise comparisons."
   ]
  },
  {
   "cell_type": "code",
   "execution_count": null,
   "id": "4150876a-8ca1-4c4a-a49c-cabb6b9f7956",
   "metadata": {},
   "outputs": [],
   "source": [
    "# Q10. A company wants to know if there are any significant differences in the average time it takes to \n",
    "# complete a task using three different software programs: Program A, Program B, and Program C. They \n",
    "# randomly assign 30 employees to one of the programs and record the time it takes each employee to \n",
    "# complete the task. Conduct a two-way ANOVA using Python to determine if there are any main effects or \n",
    "# interaction effects between the software programs and employee experience level (novice vs. \n",
    "# experienced). Report the F-statistics and p-values, and interpret the results."
   ]
  },
  {
   "cell_type": "code",
   "execution_count": null,
   "id": "c20cf847-15f9-4673-848b-06310db67823",
   "metadata": {},
   "outputs": [],
   "source": [
    "import numpy as np\n",
    "import pandas as pd\n",
    "from statsmodels.formula.api import ols\n",
    "from statsmodels.stats.anova import anova_lm\n",
    "\n",
    "# Generate example data\n",
    "programs = [\"Program A\", \"Program B\", \"Program C\"]\n",
    "experience_levels = [\"Novice\", \"Experienced\"]\n",
    "n = 30\n",
    "\n",
    "data = pd.DataFrame(columns=[\"Program\", \"Experience\", \"Time\"])\n",
    "\n",
    "for program in programs:\n",
    "    for experience_level in experience_levels:\n",
    "        times = np.random.normal(loc=20, scale=5, size=n)\n",
    "        data = data.append(pd.DataFrame({\n",
    "            \"Program\": program,\n",
    "            \"Experience\": experience_level,\n",
    "            \"Time\": times\n",
    "        }), ignore_index=True)\n",
    "\n",
    "# Perform two-way ANOVA\n",
    "model = ols(\"Time ~ Program + Experience + Program:Experience\", data).fit()\n",
    "anova_table = anova_lm(model, typ=2)\n",
    "\n",
    "print(anova_table)\n"
   ]
  },
  {
   "cell_type": "code",
   "execution_count": null,
   "id": "0a1bcee7-7ced-49f8-b8c9-4115c5b48844",
   "metadata": {},
   "outputs": [],
   "source": [
    "# Q11. An educational researcher is interested in whether a new teaching method improves student test \n",
    "# scores. They randomly assign 100 students to either the control group (traditional teaching method) or the \n",
    "# experimental group (new teaching method) and administer a test at the end of the semester. Conduct a \n",
    "# two-sample t-test using Python to determine if there are any significant differences in test scores \n",
    "# between the two groups. If the results are significant, follow up with a post-hoc test to determine which \n",
    "# group(s) differ significantly from each other."
   ]
  },
  {
   "cell_type": "code",
   "execution_count": null,
   "id": "34e09cab-ece7-4749-8cdd-db31359858c5",
   "metadata": {},
   "outputs": [],
   "source": [
    "import numpy as np\n",
    "from scipy.stats import ttest_ind\n",
    "\n",
    "# generate sample data\n",
    "control_scores = np.random.normal(loc=75, scale=10, size=100)\n",
    "experimental_scores = np.random.normal(loc=80, scale=10, size=100)\n",
    "\n",
    "# conduct two-sample t-test\n",
    "t_stat, p_val = ttest_ind(control_scores, experimental_scores)\n",
    "\n",
    "# print results\n",
    "print(\"t-statistic: \", t_stat)\n",
    "print(\"p-value: \", p_val)\n"
   ]
  },
  {
   "cell_type": "code",
   "execution_count": null,
   "id": "836ce6c9-bc2f-495b-a37c-da04010f400a",
   "metadata": {},
   "outputs": [],
   "source": [
    "# If the p-value is less than our chosen significance level (e.g., 0.05), we can reject the null hypothesis and \n",
    "# conclude that there is a significant difference in test scores between the control and experimental groups."
   ]
  },
  {
   "cell_type": "code",
   "execution_count": null,
   "id": "7bd7cb0b-7a85-4add-8af4-079cb894f5f2",
   "metadata": {},
   "outputs": [],
   "source": [
    "# Q12. A researcher wants to know if there are any significant differences in the average daily sales of three \n",
    "# retail stores: Store A, Store B, and Store C. They randomly select 30 days and record the sales for each store \n",
    "# on those days. Conduct a repeated measures ANOVA using Python to determine if there are any \n",
    "# significant differences in sales between the three stores. If the results are significant,\n",
    "# follow up with a posthoc test to determine which store(s) differ significantly from each other."
   ]
  },
  {
   "cell_type": "code",
   "execution_count": null,
   "id": "b8ec8c95-200e-40f7-9d0e-5e7f231fb909",
   "metadata": {},
   "outputs": [],
   "source": []
  }
 ],
 "metadata": {
  "kernelspec": {
   "display_name": "Python 3 (ipykernel)",
   "language": "python",
   "name": "python3"
  },
  "language_info": {
   "codemirror_mode": {
    "name": "ipython",
    "version": 3
   },
   "file_extension": ".py",
   "mimetype": "text/x-python",
   "name": "python",
   "nbconvert_exporter": "python",
   "pygments_lexer": "ipython3",
   "version": "3.10.8"
  }
 },
 "nbformat": 4,
 "nbformat_minor": 5
}
